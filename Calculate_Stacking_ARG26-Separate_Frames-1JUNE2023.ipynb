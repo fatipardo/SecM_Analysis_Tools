{
 "cells": [
  {
   "cell_type": "code",
   "execution_count": 1,
   "metadata": {},
   "outputs": [
    {
     "name": "stdout",
     "output_type": "stream",
     "text": [
      "Populating the interactive namespace from numpy and matplotlib\n"
     ]
    }
   ],
   "source": [
    "#The magic starts here!\n",
    "%pylab inline"
   ]
  },
  {
   "cell_type": "code",
   "execution_count": 2,
   "metadata": {},
   "outputs": [],
   "source": [
    "#! pip install --upgrade seaborn"
   ]
  },
  {
   "cell_type": "code",
   "execution_count": 3,
   "metadata": {},
   "outputs": [],
   "source": [
    "# IMPORT LIBS"
   ]
  },
  {
   "cell_type": "code",
   "execution_count": 4,
   "metadata": {},
   "outputs": [],
   "source": [
    "import MDAnalysis\n",
    "from MDAnalysis.analysis.dihedrals import Dihedral\n",
    "import os as os\n",
    "from numpy.linalg import norm\n",
    "import math\n",
    "import pandas as pd\n",
    "#import seaborn as sns\n"
   ]
  },
  {
   "cell_type": "code",
   "execution_count": 5,
   "metadata": {},
   "outputs": [],
   "source": [
    "# for output saving the trajectories. But.. maybe we do not even need to save them. \n",
    "\n",
    "#out_root_path='/'\n",
    "#trajectories_out_path='%s/trajectoriesCOM_K13/'%out_root_path\n",
    "\n",
    "#if not os.path.isdir(trajectories_out_path):\n",
    "#    print (\"Generating out dir\", trajectories_out_path)\n",
    "#    os.mkdir(trajectories_out_path)"
   ]
  },
  {
   "cell_type": "code",
   "execution_count": 6,
   "metadata": {},
   "outputs": [],
   "source": [
    "# trajectories_path='/Users/fatima/Stanford/70S/Trajectories/ALL/Within15CompleteTunnel/cat_rename_trajs/'\n",
    "# ref_struct_path='/Users/fatima/Stanford/70S/Trajectories/ALL/Within15CompleteTunnel/cat_rename_trajs/'\n",
    "# out_dir='/Users/fatima/Stanford/WritingSecM/STACKING_R26/FRAMES/'"
   ]
  },
  {
   "cell_type": "code",
   "execution_count": 7,
   "metadata": {},
   "outputs": [],
   "source": [
    "# run=0\n",
    "\n",
    "# systdict={0:'K13', 1:'N13', 2:'WT'}\n",
    "\n",
    "# traj=trajectories_path+\"run%d.xtc\" % run\n",
    "# ref_struct=ref_struct_path+\"top%d.pdb\" % run\n",
    "# u=MDAnalysis.Universe(ref_struct, traj)\n"
   ]
  },
  {
   "cell_type": "code",
   "execution_count": null,
   "metadata": {},
   "outputs": [],
   "source": []
  },
  {
   "cell_type": "code",
   "execution_count": 8,
   "metadata": {},
   "outputs": [],
   "source": [
    "def load_trajs(run, trajectories_path, ref_struct_path):\n",
    "    \n",
    "    traj=trajectories_path+\"run%d.xtc\" % run\n",
    "    ref_struct=ref_struct_path+\"top%d.pdb\" % run\n",
    "    u=MDAnalysis.Universe(ref_struct, traj)\n",
    "\n",
    "    #Define side chains \n",
    "    G2505_SIDE= u.select_atoms(\"(name C3 or name N3 or name C4 or name C5 or name C6 or name N1) and (resname G and resid 2505)\")\n",
    "    ARG26_SIDE= u.select_atoms(\"(name NH1 or name NE or name NH2) and (resname ARG and resid 26)\")\n",
    "    \n",
    "    U2585_SIDE= u.select_atoms(\"(name N1 or name C6 or name C5 or name C4 or name N3 or name C2) and (resname U and resid 2585)\")\n",
    "    ILE25_SIDE= u.select_atoms(\"(name CB or name CG1 or name CG2 or name CD) and (resname ILE and resid 25)\")\n",
    " \n",
    "    return(u,G2505_SIDE,ARG26_SIDE)\n"
   ]
  },
  {
   "cell_type": "code",
   "execution_count": 9,
   "metadata": {},
   "outputs": [],
   "source": [
    "def calc_per100_stacking_his22(sidechain1, sidechain2):\n",
    "    \"\"\"Determine if stacking is present based on dihedrals and distances\n",
    "    Input, 2 sidechains, loaded from MDAnalysis \n",
    "    This function is poorly written, and has hard-coded the dihedral angle 0_-\n",
    "    Need to fix this function, to include traj information as well\"\"\"\n",
    "    \n",
    "    counter_p=0\n",
    "\n",
    "    for ts in u.trajectory:\n",
    "        #Let's first get the distance \n",
    "    \n",
    "        A = sidechain1.center_of_mass()\n",
    "        B = sidechain2.center_of_mass()\n",
    "        dist=norm(A - B)\n",
    "    \n",
    "        #And let's get the angle in degrees\n",
    "        #Note these are hard-coded 0_0 \n",
    "    \n",
    "        a1 = u.select_atoms(\"name N1 and resname U and resid 2609\").positions\n",
    "        a2 = u.select_atoms(\"name N3 and resname U and resid 2609\").positions\n",
    "        a3 = u.select_atoms(\"name C5 and resname U and resid 2609\").positions\n",
    "        a4 = u.select_atoms(\"name CG and resname HIS and resid 22\").positions\n",
    "        R=MDAnalysis.lib.distances.calc_dihedrals(a1, a2, a3, a4)\n",
    "        degs=degrees(R)\n",
    "    \n",
    "        # Now, let's do the test \n",
    "    \n",
    "        if degs <= 110 and degs >= 70:\n",
    "            if dist<=5.0:\n",
    "                counter_p +=1\n",
    "    \n",
    "    print(\"Stacking %: \"+ str(counter_p/u.trajectory.n_frames))\n",
    "    \n",
    "\n",
    "    "
   ]
  },
  {
   "cell_type": "code",
   "execution_count": 10,
   "metadata": {},
   "outputs": [],
   "source": [
    "def separate_frames_by_stacking_his22(sidechain1, sidechain2):\n",
    "    \"\"\"Determine if stacking is present based on dihedrals and distances\n",
    "    Input, 2 sidechains, loaded from MDAnalysis \n",
    "    This function is poorly written, and has hard-coded the dihedral angle 0_-\n",
    "    Need to fix this function, to include traj information as well\"\"\"\n",
    "    \n",
    "    counter_p=0\n",
    "    framesitos=[]\n",
    "    not_framesitos=[]\n",
    "    \n",
    "    for ts in u.trajectory:\n",
    "        #Let's first get the distance \n",
    "    \n",
    "        A = sidechain1.center_of_mass()\n",
    "        B = sidechain2.center_of_mass()\n",
    "        dist=norm(A - B)\n",
    "    \n",
    "        #And let's get the angle in degrees\n",
    "        #Note these are hard-coded 0_0 \n",
    "    \n",
    "        a1 = u.select_atoms(\"name N1 and resname U and resid 2609\").positions\n",
    "        a2 = u.select_atoms(\"name N3 and resname U and resid 2609\").positions\n",
    "        a3 = u.select_atoms(\"name C5 and resname U and resid 2609\").positions\n",
    "        a4 = u.select_atoms(\"name CG and resname HIS and resid 22\").positions\n",
    "        R=MDAnalysis.lib.distances.calc_dihedrals(a1, a2, a3, a4)\n",
    "        degs=degrees(R)\n",
    "    \n",
    "        # Now, let's do the test \n",
    "    \n",
    "        if degs <= 110 and degs >= 70:\n",
    "            if dist<=5.0:\n",
    "                counter_p +=1\n",
    "                framesitos.append(ts.frame)\n",
    "                #print(ts.frame)\n",
    "            else: \n",
    "                not_framesitos.append(ts.frame)\n",
    "        else:\n",
    "            not_framesitos.append(ts.frame)\n",
    "            \n",
    "                \n",
    "    \n",
    "    print(\"Stacking %: \"+ str(counter_p/u.trajectory.n_frames))\n",
    "    #print(framesitos)\n",
    "    #print(not_framesitos)\n",
    "    return framesitos, not_framesitos"
   ]
  },
  {
   "cell_type": "code",
   "execution_count": 11,
   "metadata": {},
   "outputs": [],
   "source": [
    "def separate_frames_by_stacking_arg26(sidechain1, sidechain2):\n",
    "    \"\"\"Determine if stacking is present based on dihedrals and distances\n",
    "    Input, 2 sidechains, loaded from MDAnalysis \n",
    "    This function is poorly written, and has hard-coded the dihedral angle 0_-\n",
    "    Need to fix this function, to include traj information as well\"\"\"\n",
    "    \n",
    "    framesitos=[]\n",
    "    not_framesitos=[]\n",
    "    \n",
    "    \n",
    "    \n",
    "    df = pd.DataFrame(columns = ['COM Dist', 'Dih Angle'])\n",
    "    \n",
    "    counter_p1=0\n",
    "    counter_p2=0\n",
    "\n",
    "    for ts in u.trajectory:\n",
    "        #Let's first get the distance \n",
    "    \n",
    "        A = sidechain1.center_of_mass()\n",
    "        B = sidechain2.center_of_mass()\n",
    "        dist=norm(A - B)\n",
    "        \n",
    "        a1 = u.select_atoms(\"name NH2 and resname ARG and resid 26\").positions\n",
    "        a2 = u.select_atoms(\"name NE and resname ARG and resid 26\").positions\n",
    "        a3 = u.select_atoms(\"name NH1 and resname ARG and resid 26\").positions\n",
    "        a4 = u.select_atoms(\"name C2 and resname G and resid 2505\").positions\n",
    "        R=MDAnalysis.lib.distances.calc_dihedrals(a1, a2, a3, a4)\n",
    "        degs=degrees(R)\n",
    "        \n",
    "        df=df.append({'COM Dist' : dist, 'Dih Angle' : degs[0]}, ignore_index = True)\n",
    "        \n",
    "    \n",
    "        if (degs <= 110 and degs >= 70) or (degs >= -110 and degs <= -70):\n",
    "            if dist<=5.0:\n",
    "                counter_p1 +=1\n",
    "                framesitos.append(ts.frame)\n",
    "            else:\n",
    "                counter_p2 +=1\n",
    "                not_framesitos.append(ts.frame)\n",
    "        else:\n",
    "            counter_p2 +=1\n",
    "            not_framesitos.append(ts.frame)\n",
    "                \n",
    "        \n",
    "    print(\"Stacking %: \"+ str(100*((counter_p1)/(u.trajectory.n_frames))))\n",
    "    \n",
    "    return(framesitos, not_framesitos)\n",
    "    "
   ]
  },
  {
   "cell_type": "code",
   "execution_count": null,
   "metadata": {},
   "outputs": [],
   "source": []
  },
  {
   "cell_type": "markdown",
   "metadata": {},
   "source": [
    "## Load Data and Run Calculating Functions"
   ]
  },
  {
   "cell_type": "code",
   "execution_count": 12,
   "metadata": {},
   "outputs": [],
   "source": [
    "trajectories_path='/Users/fatima/Stanford/70S/Trajectories/ALL/Within15CompleteTunnel/cat_rename_trajs/'\n",
    "ref_struct_path=trajectories_path\n",
    "out_dir='/Users/fatima/Stanford/WritingSecM/STACKING_R26/FRAMES/'\n",
    "\n",
    "systdict={0:'K13', 1:'N13', 2:'WT'}"
   ]
  },
  {
   "cell_type": "code",
   "execution_count": 13,
   "metadata": {},
   "outputs": [],
   "source": [
    "run=1\n",
    "u,G2505_SIDE,ARG26_SIDE=load_trajs(run, trajectories_path, ref_struct_path)"
   ]
  },
  {
   "cell_type": "code",
   "execution_count": null,
   "metadata": {},
   "outputs": [],
   "source": []
  },
  {
   "cell_type": "code",
   "execution_count": 14,
   "metadata": {},
   "outputs": [
    {
     "name": "stdout",
     "output_type": "stream",
     "text": [
      "Stacking %: 6.455592105263158\n"
     ]
    }
   ],
   "source": [
    "framesitos=separate_frames_by_stacking_arg26(ARG26_SIDE,G2505_SIDE)"
   ]
  },
  {
   "cell_type": "code",
   "execution_count": 15,
   "metadata": {},
   "outputs": [
    {
     "name": "stdout",
     "output_type": "stream",
     "text": [
      "stacking: 157\n",
      "NOT stacking: 2275\n"
     ]
    }
   ],
   "source": [
    "print(\"stacking: \"+ str(len(framesitos[0])))\n",
    "print(\"NOT stacking: \"+ str(len(framesitos[1])))"
   ]
  },
  {
   "cell_type": "code",
   "execution_count": 16,
   "metadata": {},
   "outputs": [],
   "source": [
    "#print(framesitos[0])"
   ]
  },
  {
   "cell_type": "code",
   "execution_count": 17,
   "metadata": {},
   "outputs": [],
   "source": [
    "#u.write('c-alpha_some.dcd', frames=u.trajectory[[0,2,3]]) "
   ]
  },
  {
   "cell_type": "code",
   "execution_count": 18,
   "metadata": {},
   "outputs": [],
   "source": [
    "ag = u.select_atoms(\"all\")"
   ]
  },
  {
   "cell_type": "code",
   "execution_count": 19,
   "metadata": {},
   "outputs": [],
   "source": [
    "#ag.write(out_dir+systdict[run]+'_stacking_R26_2505.xtc', frames=u.trajectory[framesitos[0]])\n",
    "#ag.write(out_dir+systdict[run]+'_NOTstacking_R26_2505.xtc', frames=u.trajectory[framesitos[1]])"
   ]
  },
  {
   "cell_type": "code",
   "execution_count": null,
   "metadata": {},
   "outputs": [],
   "source": []
  },
  {
   "cell_type": "code",
   "execution_count": null,
   "metadata": {},
   "outputs": [],
   "source": []
  }
 ],
 "metadata": {
  "kernelspec": {
   "display_name": "Python 3 (ipykernel)",
   "language": "python",
   "name": "python3"
  },
  "language_info": {
   "codemirror_mode": {
    "name": "ipython",
    "version": 3
   },
   "file_extension": ".py",
   "mimetype": "text/x-python",
   "name": "python",
   "nbconvert_exporter": "python",
   "pygments_lexer": "ipython3",
   "version": "3.8.3"
  }
 },
 "nbformat": 4,
 "nbformat_minor": 4
}
