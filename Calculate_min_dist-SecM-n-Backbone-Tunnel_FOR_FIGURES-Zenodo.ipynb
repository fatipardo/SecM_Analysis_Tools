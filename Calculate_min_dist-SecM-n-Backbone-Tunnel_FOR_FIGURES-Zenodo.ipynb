{
 "cells": [
  {
   "cell_type": "code",
   "execution_count": 1,
   "metadata": {},
   "outputs": [
    {
     "name": "stdout",
     "output_type": "stream",
     "text": [
      "Populating the interactive namespace from numpy and matplotlib\n"
     ]
    }
   ],
   "source": [
    "%pylab inline"
   ]
  },
  {
   "cell_type": "code",
   "execution_count": 2,
   "metadata": {},
   "outputs": [],
   "source": [
    "import os\n",
    "import pandas as pd\n",
    "import matplotlib\n",
    "#matplotlib.use('Agg')\n",
    "import numpy as np\n",
    "import seaborn as sns\n",
    "from matplotlib import pyplot as plt\n",
    "from msmbuilder.io import (gather_metadata, save_meta, NumberedRunsParser, load_meta, render_meta, preload_tops, \n",
    "                           save_trajs, save_generic,load_trajs, backup, load_generic, preload_top)\n",
    "import mdtraj as md\n",
    "from msmbuilder.dataset import dataset\n",
    "import itertools\n",
    "import statistics\n"
   ]
  },
  {
   "cell_type": "markdown",
   "metadata": {},
   "source": [
    "## Note\n",
    "\n",
    "The tricky thing is making the \"distance pairs\". Nedd to find a way to compare by residue and not by atom. \n",
    "At least in the way I write the code. \n",
    "\n",
    "Also, we may want to change the function we are using to:\n",
    "\n",
    "https://mdtraj.org/1.9.4/api/generated/mdtraj.compute_contacts.html\n",
    "\n",
    "Also notice!! this will find all the possible atom pairs and give you their minimum distance. It does not have any threshold! or filter!! so you we are actually calculating distances even for atoms that are very far away! \n"
   ]
  },
  {
   "cell_type": "markdown",
   "metadata": {},
   "source": [
    "## Define functions"
   ]
  },
  {
   "cell_type": "code",
   "execution_count": 3,
   "metadata": {},
   "outputs": [],
   "source": [
    "def plot_mindist_pairs(item, mutsys, atom1, atom2):#xyz, dist_pairs, out_res, mutant,outdir):\n",
    "    left, width = 0.1, 0.65\n",
    "    bottom, height = 0.1, 0.65\n",
    "    bottom_h = left_h = left + width + 0.03\n",
    "    rect_scatter = [left, bottom, width, height]\n",
    "    rect_histy = [left_h, bottom, 0.2, height]\n",
    "    plt.figure(1, figsize=(16, 8))\n",
    "    axRMSD = plt.axes(rect_scatter)\n",
    "    axRMSD.set_ylim([0, 2])\n",
    "    axHisty = plt.axes(rect_histy)\n",
    "    axHisty.set_ylim([0, 2])\n",
    "    timestep=0.1\n",
    "    axRMSD.set_xlabel('Frame #')\n",
    "    axRMSD.set_ylabel('Distance (nm)')\n",
    "    axRMSD.set_title(\"%s_%s_%s\" % (mutsys, atom1, atom2 ))\n",
    "    axHisty.set_xlabel('P')\n",
    "    axRMSD.plot(mindist[0][:,item], alpha=0.5)\n",
    "    axRMSD.axhline(y=0.8, color='r', linestyle='-.')\n",
    "    axRMSD.axhline(y=0.4, color='r', linestyle='-.')\n",
    "    axHisty.hist(mindist[0][:,item], bins=50, orientation='horizontal', alpha=0.5)\n",
    "    plt.axhline(y=0.8, color='r', linestyle='-')\n",
    "    plt.axhline(y=0.4, color='r', linestyle='-')\n",
    "    #rmsds_array.append(rmsd)\n",
    "    plt.savefig(outdir+mutsys+'_'+atom1+'_'+atom2+'.png')\n",
    "    plt.show()"
   ]
  },
  {
   "cell_type": "code",
   "execution_count": 4,
   "metadata": {},
   "outputs": [],
   "source": [
    "def plot_mindist2_pairs(item, mutsys, atom1, atom2):#xyz, dist_pairs, out_res, mutant,outdir):\n",
    "    left, width = 0.1, 0.65\n",
    "    bottom, height = 0.1, 0.65\n",
    "    bottom_h = left_h = left + width + 0.03\n",
    "    rect_scatter = [left, bottom, width, height]\n",
    "    rect_histy = [left_h, bottom, 0.2, height]\n",
    "    plt.figure(1, figsize=(16, 8))\n",
    "    axRMSD = plt.axes(rect_scatter)\n",
    "    axRMSD.set_ylim([0, 2])\n",
    "    axHisty = plt.axes(rect_histy)\n",
    "    axHisty.set_ylim([0, 2])\n",
    "    timestep=0.1\n",
    "    axRMSD.set_xlabel('Frame #')\n",
    "    axRMSD.set_ylabel('Distance (nm)')\n",
    "    axRMSD.set_title(\"%s_%s_%s\" % (mutsys, atom1, atom2 ))\n",
    "    axHisty.set_xlabel('P')\n",
    "    #axRMSD.plot(mindist2[0][:,item], alpha=0.5)\n",
    "    axRMSD.plot(mindist2[:,0], alpha=0.5)\n",
    "    #axRMSD.axhline(y=0.8, color='r', linestyle='-.')\n",
    "    axRMSD.axhline(y=0.4, color='r', linestyle='-.')\n",
    "    axHisty.hist(mindist2[:,0], bins=50, orientation='horizontal', alpha=0.5)\n",
    "    #plt.axhline(y=0.8, color='r', linestyle='-')\n",
    "    plt.axhline(y=0.4, color='r', linestyle='-')\n",
    "    #rmsds_array.append(rmsd)\n",
    "    plt.savefig(outdir+mutsys+'_'+atom1+'_'+atom2+'.png')\n",
    "    plt.show()"
   ]
  },
  {
   "cell_type": "code",
   "execution_count": 5,
   "metadata": {},
   "outputs": [],
   "source": [
    "def barlikeplot_mindist2_pairs(mutsys, atom1, atom2):#xyz, dist_pairs, out_res, mutant,outdir):\n",
    "    \n",
    "    plt.figure(figsize=(12, 1.5))  # Optional: Set the figure size according to your preferences\n",
    "\n",
    "    # Define the colors for bars based on the condition\n",
    "    \n",
    "    # SER 16 COLOR:\n",
    "    #colors = ['deepskyblue' if value < 0.4 else 'white' for value in mindist2[:,0]]\n",
    "    \n",
    "    # X17 COLOR:\n",
    "    colors = ['black' if value < 0.4 else 'white' for value in mindist2[:,0]]\n",
    "    \n",
    "    # SER 18 COLOR:\n",
    "    #colors = ['darkorange' if value < 0.4 else 'white' for value in mindist2[:,0]]\n",
    "    \n",
    "\n",
    "    # Create the bar plot with colored bars\n",
    "    plt.bar(range(len(mindist2[:,0])), mindist2[:,0], color=colors)\n",
    "\n",
    "    plt.ylim([0, 0.1])\n",
    "\n",
    "    # Optional: Customize the plot appearance\n",
    "    plt.xlabel('Time')\n",
    "    #plt.ylabel(atom2, weight='bold', fontsize=14, rotation='horizontal', labelpad=50)\n",
    "    #plt.xticks(range(len(mindist2[:,0])))  # Optional: Show ticks for each time point\n",
    "    plt.grid(axis='x')  # Optional: Add a grid to the plot\n",
    "    plt.yticks([])\n",
    "\n",
    "    \n",
    "    #plt.title(\"%s_%s_%s\" % (mutsys, atom1, atom2 ))\n",
    "    plt.savefig(outdir+mutsys+'_'+atom1+'_'+atom2+'_bar.pdf', bbox_inches='tight')\n",
    "    \n",
    "    plt.tight_layout()\n",
    "    \n",
    "    plt.show()\n",
    "    \n",
    "    "
   ]
  },
  {
   "cell_type": "code",
   "execution_count": 6,
   "metadata": {},
   "outputs": [],
   "source": [
    "def barlikeplot_mindist3_pairs(mutsys, atom1, atom2):#xyz, dist_pairs, out_res, mutant,outdir):\n",
    "    \n",
    "    plt.figure(figsize=(12, 0.75))  # Optional: Set the figure size according to your preferences\n",
    "\n",
    "    # Define the colors for bars based on the condition\n",
    "    \n",
    "    # SER 16 COLOR:\n",
    "    #colors = ['deepskyblue' if value < 0.4 else 'white' for value in mindist2[:,0]]\n",
    "    \n",
    "    # X17 COLOR:\n",
    "    colors = ['black' if value < 0.4 else 'white' for value in mindist2[:,0]]\n",
    "    \n",
    "    # SER 18 COLOR:\n",
    "    #colors = ['darkorange' if value < 0.4 else 'white' for value in mindist2[:,0]]\n",
    "    \n",
    "\n",
    "    # Create the bar plot with colored bars\n",
    "    plt.bar(range(len(mindist2[:,0])), mindist2[:,0], color=colors)\n",
    "\n",
    "    plt.ylim([0, 0.1])\n",
    "\n",
    "    # Optional: Customize the plot appearance\n",
    "    #plt.xlabel('Time')\n",
    "    #plt.ylabel(atom2, weight='bold', fontsize=14, rotation='horizontal', labelpad=50)\n",
    "    #plt.xticks(range(len(mindist2[:,0])))  # Optional: Show ticks for each time point\n",
    "    plt.grid(axis='x')  # Optional: Add a grid to the plot\n",
    "    plt.yticks([])\n",
    "    \n",
    "    x = [0,500,1000,1500,2000,2500]\n",
    "    xtick_labels = ['T1', 'T2', 'T3', 'T4', 'T5','']\n",
    "    \n",
    "    plt.xticks(x, xtick_labels, fontsize=16)\n",
    "    \n",
    "    TitleLabels={'K13':'$\\mathbf{K^{-12}}$', 'LYS17-NZ':'$\\mathbf{K^{-12}(NZ)}$', 'LYS17-N':'$\\mathbf{K^{-12}(N)}$',\n",
    "                'LYS17-O':'$\\mathbf{K^{-12}(O)}$','ASN17-OD1':'$\\mathbf{N^{-12}(OD1)}$','ASN17-ND2':'$\\mathbf{N^{-12}(ND2)}$',\n",
    "                'ASN17-N':'$\\mathbf{N^{-12}(N)}$','GLY17-N':'$\\mathbf{G^{-12}(N)}$','GLY17-O':'$\\mathbf{G^{-12}(O)}$',\n",
    "                'GLY17-CA':'$\\mathbf{G^{-12}(CA)}$'}\n",
    "    \n",
    "    #plt.title(\"%s_%s_%s\" % (mutsys, atom1, atom2 ))\n",
    "    \n",
    "    #plt.title(F'{TitleLabels[mutsys]} - {TitleLabels[atom1]}-{atom2}', weight='bold', fontsize=24)\n",
    "    \n",
    "    plt.title(F'{TitleLabels[atom1]} - {atom2}', weight='bold', fontsize=24)\n",
    "    \n",
    "    plt.savefig(outdir+mutsys+'_'+atom1+'_'+atom2+'_bar.png', bbox_inches='tight', dpi=300)\n",
    "    \n",
    "    plt.tight_layout()\n",
    "    \n",
    "    plt.show()\n",
    "\n",
    "##########    \n",
    "# NOTES:\n",
    "# What do I want? \n",
    "# Add atom labels automatically\n",
    "# Make the plots thinner \n",
    "# Chang the labels of time... instead just write traj1, traj2, ... \n",
    "# make sure the size is consistent... separate bar size and name size\n",
    "    \n",
    "    "
   ]
  },
  {
   "cell_type": "markdown",
   "metadata": {},
   "source": [
    "## Load Data"
   ]
  },
  {
   "cell_type": "code",
   "execution_count": 7,
   "metadata": {},
   "outputs": [],
   "source": [
    "# Define system and paths\n",
    "\n",
    "mutsys=\"WT\"\n",
    "\n",
    "topology_file=\"/Users/fatima/Stanford/70S/Trajectories/%s/Within15CompleteTunnel/em_within15_tunnel.pdb\" % mutsys\n",
    "md_root=\"/Users/fatima/Stanford/70S/Trajectories/%s/Within15CompleteTunnel/rename_trajs/cattrajs/run_all.xtc\" % mutsys\n",
    "md_trajs=[md_root+\"run0.xtc\",md_root+\"run1.xtc\", md_root+\"run2.xtc\",md_root+\"run3.xtc\", md_root+\"run4.xtc\" ]\n",
    "\n",
    "data_subsampling_stride=1\n",
    "timestep=0.1 #ns\n",
    "\n",
    "outdir=\"/Users/fatima/Stanford/70S/CombinedAnalysis/20MAR2024_DISTANCES_FORFIGURE_REPEAT/\" \n",
    "out_csv=outdir+\"%s.csv\" % mutsys"
   ]
  },
  {
   "cell_type": "code",
   "execution_count": 8,
   "metadata": {},
   "outputs": [],
   "source": [
    "if not os.path.isdir(outdir):\n",
    "    print (\"Generating out dir\", outdir)\n",
    "    os.mkdir(outdir)"
   ]
  },
  {
   "cell_type": "code",
   "execution_count": 9,
   "metadata": {},
   "outputs": [],
   "source": [
    "# Load topology and trajectories \n",
    "\n",
    "xyz = md.load(md_root, top=topology_file)\n",
    "topology=md.load(topology_file).topology"
   ]
  },
  {
   "cell_type": "code",
   "execution_count": 10,
   "metadata": {
    "scrolled": true
   },
   "outputs": [],
   "source": [
    "# Figure out what is the 'new' residue number in this topology\n",
    "\n",
    "#for i in range(335):\n",
    "#    print(str(i)+\" \"+str(topology.residue(i)))"
   ]
  },
  {
   "cell_type": "markdown",
   "metadata": {},
   "source": [
    "## These are the initial and final residues for the nascent peptide, uL22 and uL4 chains: \n",
    "\n",
    "### Nascent peptide\n",
    "\n",
    "ACE2 : 232\n",
    "SER28 : 258\n",
    "\n",
    "### uL4\n",
    "\n",
    "i_i : 176\n",
    "i_f : 193\n",
    "\n",
    "### uL22\n",
    "\n",
    "v_i : 199\n",
    "v_f : 220\n",
    "\n",
    "### uL23\n",
    "\n",
    "w_i : 222\n",
    "w_f : 231\n",
    "\n",
    "### Interesting residues?\n",
    "\n",
    "G13 : 243\n",
    "G19 : 249\n",
    "A751:46 \n",
    "\n",
    "### Nascent Peptide section\n",
    "\n",
    "S16 : 246\n",
    "X17 : 247\n",
    "S18 : 248"
   ]
  },
  {
   "cell_type": "markdown",
   "metadata": {},
   "source": [
    "## Considerations when calculating distance\n",
    "\n",
    "We could do an \"all vs all\" approach, however very quickly this becomes difficult to understand. \n",
    "For that reason, we decided to focus here on just the contacts between the mutated residue (and adjacent residues), and all others (it is ok because our \"small system\" contains only 334 residues). \n",
    "\n",
    "I am using mdtraj's compute_contacts function. One of the inputs is the residue pairs. The cell below creates the pairs we want. Notice that the residue number was obtained from the 'code' cell above. "
   ]
  },
  {
   "cell_type": "code",
   "execution_count": 11,
   "metadata": {},
   "outputs": [],
   "source": [
    "\n",
    "# #Create all the atom pairs between chains we care about\n",
    "\n",
    "group_1=[]\n",
    "group_2=[]\n",
    "\n",
    "# #Note: remember to add +1 to the second number in range, so all the indeces you want are included.\n",
    "\n",
    "group_1.append(247)\n",
    "\n",
    "for i in range(0,335):\n",
    "    group_2.append(i)\n",
    "\n",
    "\n",
    "pairs = list(itertools.product(group_1, group_2))\n"
   ]
  },
  {
   "cell_type": "code",
   "execution_count": 12,
   "metadata": {},
   "outputs": [],
   "source": [
    "# it's nice to check that you get what you wanted!\n",
    "#print(pairs)"
   ]
  },
  {
   "cell_type": "code",
   "execution_count": 13,
   "metadata": {},
   "outputs": [],
   "source": [
    "#Calculate minimum distance between atom pairs \n",
    "#Compute_contacts has multiple scheme: \n",
    "#closest-heavy: minimum distance between any two non-H atoms\n",
    "#sidechain-heavy: minimum distances between any two non-H atoms that are part of a sidechain \n",
    "#               (how does it work for nucleic acids? <- it doesn't ~)\n",
    "\n",
    "mindist=md.compute_contacts(xyz, pairs, scheme='closest-heavy', ignore_nonprotein=False)"
   ]
  },
  {
   "cell_type": "code",
   "execution_count": null,
   "metadata": {},
   "outputs": [],
   "source": []
  },
  {
   "cell_type": "code",
   "execution_count": 14,
   "metadata": {},
   "outputs": [],
   "source": [
    "#Here we calculate the % of frames where distances are below 0.4 nm \n",
    "#When more than 50% of frames have contact, we print contact ID, atoms involved in contact\n",
    "#and the total % of frames containing contact. \n",
    "#The output is written in the format of a markdown table.\n",
    "\n",
    "\n",
    "# counter_i=0\n",
    "# contact_id=[]\n",
    "\n",
    "# with open(out_csv, 'w') as f:\n",
    "#             f.write(\"ID contact, atom 1, atom2, Fraction present \\n\")\n",
    "\n",
    "# print(\"|ID contact | atom 1 | atom 2 | Fraction present |\")\n",
    "# print(\"|:----:|:-----:|:------:|:--:|\")\n",
    "        \n",
    "# for i in range(len(mindist[1])):\n",
    "#     counter_p=0\n",
    "#     for j in range(len(mindist[0][:,i])):\n",
    "#         if mindist[0][:,i][j] <= 0.4:\n",
    "#             counter_p +=1\n",
    "#     if counter_p/(len(mindist[0][:,334])) >= 0.05 :\n",
    "#         print('|'+ str(counter_i)+'|'+str(topology.residue(mindist[1][i][0]))+\n",
    "#               '|'+str(topology.residue(mindist[1][i][1]))+'|'+\n",
    "#               \"{:.2f}\".format(counter_p/(len(mindist[0][:,334])))+'|')\n",
    "#         with open(out_csv, 'a') as f:\n",
    "#             f.write(str(counter_i)+','+str(topology.residue(mindist[1][i][0]))+\n",
    "#               ','+str(topology.residue(mindist[1][i][1]))+','+\n",
    "#               \"{:.2f}\".format(counter_p/(len(mindist[0][:,334])))+'\\n')       \n",
    "#         contact_id.append(counter_i)\n",
    "\n",
    "#     counter_i+=1 \n",
    "\n"
   ]
  },
  {
   "cell_type": "code",
   "execution_count": 15,
   "metadata": {},
   "outputs": [],
   "source": [
    "# Populate a dataframe with the topology info\n",
    "\n",
    "table, bonds = topology.to_dataframe()"
   ]
  },
  {
   "cell_type": "code",
   "execution_count": 16,
   "metadata": {},
   "outputs": [],
   "source": [
    "# What are the names of the atoms of the residue of interest? \n",
    "\n",
    "# mutsite = table.loc[table['resName'] == 'GLY']\n",
    "# mutsite = mutsite.loc[mutsite['resSeq'] == 17]\n",
    "# print(mutsite)"
   ]
  },
  {
   "cell_type": "code",
   "execution_count": 25,
   "metadata": {},
   "outputs": [
    {
     "name": "stdout",
     "output_type": "stream",
     "text": [
      "6659    6659\n",
      "Name: serial, dtype: int64\n"
     ]
    }
   ],
   "source": [
    "# Select sidechain atom \n",
    "# We want to get the index of the atom we desire\n",
    "# We need to substract 1 to the 'serial' value \n",
    "\n",
    "mutsite = table.loc[table['resName'] == 'GLY']\n",
    "mutsite = mutsite.loc[mutsite['resSeq'] == 17]\n",
    "mutsite = mutsite.loc[mutsite['name'] == 'CA']\n",
    "print(mutsite['serial']-1)"
   ]
  },
  {
   "cell_type": "code",
   "execution_count": 26,
   "metadata": {},
   "outputs": [],
   "source": [
    "#contacts MARCH 2024\n",
    "\n",
    "# K17_NZ \n",
    "# plotres=['A','U','U','A','A']\n",
    "# plotresnum=[789,790,1781, 751, 752]\n",
    "# atom_name=[\"A789-O3'\",\"U790-O4\",\"U790-OP1\",\"U1781-O2\",\"U1781-O4\",\"A752-OP2\",\"A751-O3'\"]\n",
    "\n",
    "# K17_N \n",
    "\n",
    "# plotres=['LYS','A']\n",
    "# plotresnum=[90, 751]\n",
    "# atom_name=[\"LYS90-O\",\"A751-C2\"]\n",
    "\n",
    "# K17 O\n",
    "\n",
    "# plotres=['LYS','ARG']\n",
    "# plotresnum=[90, 92]\n",
    "# atom_name=[\"LYS90-NZ\",\"ARG92-NH1\"]\n",
    "\n",
    "# N17 ND2\n",
    "\n",
    "# plotres=['LYS','ARG','A','A']\n",
    "# plotresnum=[90,92,751,2059]\n",
    "# atom_name=[\"LYS90-O\",\"ARG92-CG\",\"A751-O2'\",\"A2059-OP1\"]\n",
    "\n",
    "# N17 N\n",
    "\n",
    "# plotres=['GLY','A']\n",
    "# plotresnum=[91,751]\n",
    "# atom_name=[\"GLY91-O\",\"A751-N3\"]\n",
    "\n",
    "# # N17 OD1\n",
    "\n",
    "# plotres=['ARG','A','A']\n",
    "# plotresnum=[92,751,2058]\n",
    "# atom_name=[\"ARG92-NH1\",\"A751-N3\",\"A2058-O3'\"]\n",
    "\n",
    "# CONTROL N\n",
    "\n",
    "# plotres=['GLY','LYS','GLY','A']\n",
    "# plotresnum=[91,90,64,751]\n",
    "# atom_name=[\"GLY91-O\",\"LYS90-O\",\"GLY64-O\",\"A751-C2\"]\n",
    "\n",
    "# CONTROL CA\n",
    "\n",
    "# plotres=['LYS','A']\n",
    "# plotresnum=[90,751]\n",
    "# atom_name=[\"LYS90-O\",\"A751-C2\"]\n",
    "\n",
    "# # CONTROL O\n",
    "\n",
    "# plotres=['GLY','ARG','U']\n",
    "# plotresnum=[64,92,747]\n",
    "# atom_name=[\"GLY64-O\",\"ARG92-NH2\",\"U747-O4\"]\n",
    "\n",
    "# WT N\n",
    "\n",
    "# plotres=['GLY','LYS','ARG','A','U']\n",
    "# plotresnum=[91,90,92,751,790]\n",
    "# atom_name=[\"GLY91-O\",\"LYS90-O\",\"ARG92-CD\",\"A751-C2\",\"U790-OP1\"]\n",
    "\n",
    "# WT O\n",
    "\n",
    "# plotres=['LYS','ARG','ARG']\n",
    "# plotresnum=[90,92,67]\n",
    "# atom_name=[\"LYS90-CB\",\"ARG92-NH2\",\"ARG67-NH2\"]\n",
    "\n",
    "# WT CA\n",
    "\n",
    "plotres=['A','U']\n",
    "plotresnum=[751,790]\n",
    "atom_name=[\"A751-N6\",\"U790-OP1\"]\n",
    "\n"
   ]
  },
  {
   "cell_type": "code",
   "execution_count": 27,
   "metadata": {
    "scrolled": false
   },
   "outputs": [],
   "source": [
    "# for i in range(len(plotres)):\n",
    "    \n",
    "    \n",
    "#     result = table.loc[table['resName'] == plotres[i]]\n",
    "#     result = result.loc[result['resSeq'] == plotresnum[i]]\n",
    "#     #result = result.loc[result['name'] == atomtype[i]]\n",
    "#     result = result.loc[result['element'] != 'H']\n",
    "    \n",
    "#     print(result)\n",
    "    \n",
    "#     pairs=[]\n",
    "    \n",
    "#     for item in result['serial']:\n",
    "#         print(item)\n",
    "#         pair=(int(mutsite['serial']-1),item-1)\n",
    "#         pairs.append(pair)\n",
    "    \n",
    "#     print(pairs)\n",
    "    \n",
    "#     mindist2=md.compute_distances(xyz, pairs)\n",
    "    \n",
    "#     print(mindist2[:,0])\n",
    "    \n",
    "#     for atomnum in result['serial']:\n",
    "#         print(atomnum+1)\n",
    "#         barlikeplot_mindist2_pairs(mutsys, str(topology.atom(int(mutsite['serial']-1))), str(topology.atom(atomnum-1)))\n",
    "\n",
    "    \n"
   ]
  },
  {
   "cell_type": "code",
   "execution_count": 28,
   "metadata": {
    "scrolled": false
   },
   "outputs": [
    {
     "name": "stderr",
     "output_type": "stream",
     "text": [
      "/Users/fatima/anaconda3/envs/MyMSMve/lib/python3.6/site-packages/ipykernel_launcher.py:47: UserWarning: Tight layout not applied. The bottom and top margins cannot be made large enough to accommodate all axes decorations. \n"
     ]
    },
    {
     "data": {
      "image/png": "[encoded data removed]",
      "text/plain": [
       "<Figure size 864x54 with 1 Axes>"
      ]
     },
     "metadata": {
      "needs_background": "light"
     },
     "output_type": "display_data"
    },
    {
     "data": {
      "image/png": "[encoded data removed]",
      "text/plain": [
       "<Figure size 864x54 with 1 Axes>"
      ]
     },
     "metadata": {
      "needs_background": "light"
     },
     "output_type": "display_data"
    }
   ],
   "source": [
    "for i in range(len(plotres)):\n",
    "    \n",
    "    \n",
    "    result = table.loc[table['resName'] == plotres[i]]\n",
    "    result = result.loc[result['resSeq'] == plotresnum[i]]\n",
    "    #result = result.loc[result['name'] == atomtype[i]]\n",
    "    result = result.loc[result['element'] != 'H']\n",
    "    \n",
    "    #print(result)\n",
    "    \n",
    "    \n",
    "    \n",
    "    for item in result['serial']:\n",
    "        pairs=[]\n",
    "        #print(item)\n",
    "        pair=(int(mutsite['serial']-1),item-1)\n",
    "        pairs.append(pair)\n",
    "    \n",
    "        #print(pairs)\n",
    "    \n",
    "        mindist2=md.compute_distances(xyz, pairs)\n",
    "    \n",
    "        #print(mindist2[:,0])\n",
    "        \n",
    "        #print(str(topology.atom(item-1)))\n",
    "        \n",
    "        if str(topology.atom(item-1)) in atom_name:\n",
    "            barlikeplot_mindist3_pairs(mutsys, str(topology.atom(int(mutsite['serial']-1))), str(topology.atom(item-1)))\n",
    "\n",
    "    \n"
   ]
  },
  {
   "cell_type": "code",
   "execution_count": null,
   "metadata": {},
   "outputs": [],
   "source": []
  },
  {
   "cell_type": "markdown",
   "metadata": {},
   "source": [
    "\n"
   ]
  }
 ],
 "metadata": {
  "kernelspec": {
   "display_name": "MyMSMve",
   "language": "python",
   "name": "mymsmve"
  },
  "language_info": {
   "codemirror_mode": {
    "name": "ipython",
    "version": 3
   },
   "file_extension": ".py",
   "mimetype": "text/x-python",
   "name": "python",
   "nbconvert_exporter": "python",
   "pygments_lexer": "ipython3",
   "version": "3.6.12"
  }
 },
 "nbformat": 4,
 "nbformat_minor": 4
}
