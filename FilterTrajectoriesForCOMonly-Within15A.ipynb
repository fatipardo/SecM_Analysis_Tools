{
 "cells": [
  {
   "cell_type": "code",
   "execution_count": 8,
   "metadata": {},
   "outputs": [
    {
     "name": "stdout",
     "output_type": "stream",
     "text": [
      "Populating the interactive namespace from numpy and matplotlib\n"
     ]
    }
   ],
   "source": [
    "#The magic starts here!\n",
    "%pylab inline"
   ]
  },
  {
   "cell_type": "markdown",
   "metadata": {},
   "source": [
    "# IMPORT LIBS"
   ]
  },
  {
   "cell_type": "code",
   "execution_count": 9,
   "metadata": {},
   "outputs": [],
   "source": [
    "import MDAnalysis\n",
    "import os as os"
   ]
  },
  {
   "cell_type": "markdown",
   "metadata": {},
   "source": [
    "# In-Out Trajectories"
   ]
  },
  {
   "cell_type": "code",
   "execution_count": 19,
   "metadata": {},
   "outputs": [],
   "source": [
    "#IN arguments\n",
    "root_work_path='/Users/fatima/Stanford/70S/Trajectories/K13/Within15CompleteTunnel/'\n",
    "trajlist_path='/Users/fatima/Stanford/70S/Trajectories/WT/Within15CompleteTunnel/trajlist'\n",
    "ref_struct_path='/Users/fatima/Stanford/70S/Trajectories/K13/Within15CompleteTunnel/em_within15_tunnel.pdb'\n",
    "trajectories_path='%s/'%root_work_path\n",
    "\n",
    "#OUT Arguments\n",
    "out_root_path='/Users/fatima/Stanford/70S/CombinedAnalysis/Within15A_nascentchain_wt_k13_N13_CONTROL_COM/'\n",
    "trajectories_out_path='%s/trajectoriesCOM_K13/'%out_root_path\n",
    "\n",
    "if not os.path.isdir(out_root_path):\n",
    "    print(\"Generating out dir\", out_root_path)\n",
    "    os.mkdir(out_root_path)\n",
    "    \n",
    "if not os.path.isdir(trajectories_out_path):\n",
    "    print (\"Generating out dir\", trajectories_out_path)\n",
    "    os.mkdir(trajectories_out_path)"
   ]
  },
  {
   "cell_type": "markdown",
   "metadata": {
    "collapsed": true
   },
   "source": [
    "# Filter Trajectories"
   ]
  },
  {
   "cell_type": "code",
   "execution_count": 17,
   "metadata": {},
   "outputs": [
    {
     "name": "stdout",
     "output_type": "stream",
     "text": [
      "5\n",
      "I finished with trajectory: run1_within15_tunnel\n",
      "I finished with trajectory: run2_within15_tunnel\n",
      "I finished with trajectory: run3_within15_tunnel\n",
      "I finished with trajectory: run4_within15_tunnel\n",
      "I finished with trajectory: run5_within15_tunnel\n",
      "Finished all, enjoy your filtered trajectories! :)\n"
     ]
    }
   ],
   "source": [
    "#Obtain the Center of Mass of each residue and each nucleotide\n",
    "\n",
    "trajlist=open(trajlist_path,'r')\n",
    "trajlist=trajlist.readlines()\n",
    "\n",
    "print(len(trajlist))\n",
    "\n",
    "for n in range(len(trajlist)):\n",
    "    traj=trajectories_path+str(trajlist[n].split()[0])+\".xtc\"\n",
    "    u=MDAnalysis.Universe(ref_struct_path, traj) \n",
    "    xtctrj = trajectories_out_path+str(trajlist[n].split()[0])+\".xtc\"\n",
    "    \n",
    "    \n",
    "    with MDAnalysis.Writer(xtctrj, numatoms=(u.residues.n_residues)-3) as PDB:\n",
    "        for ts in u.trajectory:\n",
    "            i=0\n",
    "            while i < len(u.atoms.residues):\n",
    "                A = u.atoms.residues[i:i+1].center_of_mass()\n",
    "                u.atoms.residues[i].atoms.positions=A\n",
    "                i+=1\n",
    "\n",
    "            B=u.select_atoms(\"name CA or name O4' or name MG\") \n",
    "            PDB.write(B)\n",
    "\n",
    "    print(\"I finished with trajectory: \"+str(trajlist[n].split()[0]))\n",
    "\n",
    "print(\"Finished all, enjoy your filtered trajectories! :)\")\n"
   ]
  },
  {
   "cell_type": "markdown",
   "metadata": {},
   "source": [
    "# Filter Reference Structure"
   ]
  },
  {
   "cell_type": "code",
   "execution_count": 20,
   "metadata": {},
   "outputs": [
    {
     "name": "stdout",
     "output_type": "stream",
     "text": [
      "I finished with reference\n",
      "Finished all, enjoy your filtered trajectories! :)\n"
     ]
    }
   ],
   "source": [
    "#Obtain the Center of Mass of each residue and each nucleotide\n",
    "\n",
    "\n",
    "ref_struct_path='/Users/fatima/Stanford/70S/Trajectories/K13/Within15CompleteTunnel/em_within15_tunnel.pdb'\n",
    "traj=ref_struct_path\n",
    "\n",
    "u=MDAnalysis.Universe(ref_struct_path, traj) \n",
    "filtpdb=trajectories_out_path+\"ref_em_control.pdb\"\n",
    "\n",
    "with MDAnalysis.Writer(filtpdb, n_atoms=(u.residues.n_residues)-3) as PDB:\n",
    "    for ts in u.trajectory:\n",
    "        i=0\n",
    "        while i < len(u.atoms.residues):\n",
    "            A = u.atoms.residues[i:i+1].center_of_mass()\n",
    "            u.atoms.residues[i].atoms.positions=A\n",
    "            i+=1\n",
    "\n",
    "        B=u.select_atoms(\"name CA or name O4' or name MG\") \n",
    "        PDB.write(B)\n",
    "\n",
    "\n",
    "\n",
    "print(\"I finished with reference\")\n",
    "\n",
    "print(\"Finished all, enjoy your filtered trajectories! :)\")"
   ]
  },
  {
   "cell_type": "code",
   "execution_count": null,
   "metadata": {},
   "outputs": [],
   "source": []
  },
  {
   "cell_type": "code",
   "execution_count": null,
   "metadata": {
    "collapsed": true
   },
   "outputs": [],
   "source": []
  }
 ],
 "metadata": {
  "kernelspec": {
   "display_name": "Python 3 (ipykernel)",
   "language": "python",
   "name": "python3"
  },
  "language_info": {
   "codemirror_mode": {
    "name": "ipython",
    "version": 3
   },
   "file_extension": ".py",
   "mimetype": "text/x-python",
   "name": "python",
   "nbconvert_exporter": "python",
   "pygments_lexer": "ipython3",
   "version": "3.8.3"
  }
 },
 "nbformat": 4,
 "nbformat_minor": 1
}
