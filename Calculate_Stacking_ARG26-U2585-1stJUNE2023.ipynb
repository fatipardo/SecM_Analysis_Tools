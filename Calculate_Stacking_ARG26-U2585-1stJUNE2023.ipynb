{
 "cells": [
  {
   "cell_type": "code",
   "execution_count": 1,
   "metadata": {},
   "outputs": [
    {
     "name": "stdout",
     "output_type": "stream",
     "text": [
      "Populating the interactive namespace from numpy and matplotlib\n"
     ]
    }
   ],
   "source": [
    "#The magic starts here!\n",
    "%pylab inline"
   ]
  },
  {
   "cell_type": "code",
   "execution_count": 2,
   "metadata": {},
   "outputs": [],
   "source": [
    "#! pip install --upgrade seaborn"
   ]
  },
  {
   "cell_type": "code",
   "execution_count": 3,
   "metadata": {},
   "outputs": [],
   "source": [
    "# IMPORT LIBS"
   ]
  },
  {
   "cell_type": "code",
   "execution_count": 4,
   "metadata": {},
   "outputs": [],
   "source": [
    "import MDAnalysis\n",
    "from MDAnalysis.analysis.dihedrals import Dihedral\n",
    "import os as os\n",
    "from numpy.linalg import norm\n",
    "import math\n",
    "import pandas as pd\n",
    "import seaborn as sns\n"
   ]
  },
  {
   "cell_type": "code",
   "execution_count": 5,
   "metadata": {},
   "outputs": [],
   "source": [
    "# for output saving the trajectories. But.. maybe we do not even need to save them. \n",
    "\n",
    "#out_root_path='/'\n",
    "#trajectories_out_path='%s/trajectoriesCOM_K13/'%out_root_path\n",
    "\n",
    "#if not os.path.isdir(trajectories_out_path):\n",
    "#    print (\"Generating out dir\", trajectories_out_path)\n",
    "#    os.mkdir(trajectories_out_path)"
   ]
  },
  {
   "cell_type": "markdown",
   "metadata": {},
   "source": [
    "## DEFINE FUNCTIONS"
   ]
  },
  {
   "cell_type": "code",
   "execution_count": 6,
   "metadata": {},
   "outputs": [],
   "source": [
    "def get_stacking_dataframe_ARG26(sidechain1, sidechain2):\n",
    "    \n",
    "    df = pd.DataFrame(columns = ['COM Dist', 'Dih Angle'])\n",
    "    \n",
    "    counter_p1=0\n",
    "    counter_p2=0\n",
    "\n",
    "    for ts in u.trajectory:\n",
    "        #Let's first get the distance \n",
    "    \n",
    "        A = sidechain1.center_of_mass()\n",
    "        B = sidechain2.center_of_mass()\n",
    "        dist=norm(A - B)\n",
    "        \n",
    "        a1 = u.select_atoms(\"name NH2 and resname ARG and resid 26\").positions\n",
    "        a2 = u.select_atoms(\"name NE and resname ARG and resid 26\").positions\n",
    "        a3 = u.select_atoms(\"name NH1 and resname ARG and resid 26\").positions\n",
    "        a4 = u.select_atoms(\"name C2 and resname G and resid 2505\").positions\n",
    "        R=MDAnalysis.lib.distances.calc_dihedrals(a1, a2, a3, a4)\n",
    "        degs=degrees(R)\n",
    "        \n",
    "        df=df.append({'COM Dist' : dist, 'Dih Angle' : degs[0]}, ignore_index = True)\n",
    "        \n",
    "    \n",
    "        if degs <= 110 and degs >= 70:\n",
    "            if dist<=5.0:\n",
    "                counter_p1 +=1\n",
    "                \n",
    "        if degs >= -110 and degs <= -70:\n",
    "            if dist<=5.0:\n",
    "                counter_p2 +=1\n",
    "    \n",
    "    print(\"Stacking %: \"+ str((counter_p1+counter_p2)/u.trajectory.n_frames))\n",
    "    print(\"My error %: \"+ str((counter_p1)/u.trajectory.n_frames))\n",
    "\n",
    "    \n",
    "    return(df)\n",
    "        \n",
    "        "
   ]
  },
  {
   "cell_type": "code",
   "execution_count": 7,
   "metadata": {},
   "outputs": [],
   "source": [
    "def load_trajs(run, trajectories_path, ref_struct_path):\n",
    "    \n",
    "    traj=trajectories_path+\"run%d.xtc\" % run\n",
    "    ref_struct=ref_struct_path+\"top%d.pdb\" % run\n",
    "    u=MDAnalysis.Universe(ref_struct, traj)\n",
    "\n",
    "    #Define side chains \n",
    "    G2505_SIDE= u.select_atoms(\"(name C3 or name N3 or name C4 or name C5 or name C6 or name N1) and (resname G and resid 2505)\")\n",
    "    ARG26_SIDE= u.select_atoms(\"(name NH1 or name NE or name NH2) and (resname ARG and resid 26)\")\n",
    "    \n",
    "    U2585_SIDE= u.select_atoms(\"(name N1 or name C6 or name C5 or name C4 or name N3 or name C2) and (resname U and resid 2585)\")\n",
    "    ILE25_SIDE= u.select_atoms(\"(name CB or name CG1 or name CG2 or name CD) and (resname ILE and resid 25)\")\n",
    " \n",
    "    return(u,G2505_SIDE,ARG26_SIDE)\n"
   ]
  },
  {
   "cell_type": "code",
   "execution_count": 8,
   "metadata": {},
   "outputs": [],
   "source": [
    "def plot_stacking(df, systdict_run,outdir):\n",
    "\n",
    "    sns.histplot(df, x=\"COM Dist\",\n",
    "                        y=\"Dih Angle\").set(title=systdict_run)\n",
    "\n",
    "\n",
    "\n",
    "    plt.vlines(5, 70, 110, colors='r')\n",
    "    plt.vlines(3.2, 70, 110, colors='r')\n",
    "\n",
    "    plt.hlines(70, 3.2, 5, colors='r')\n",
    "    plt.hlines(110, 3.2, 5, colors='r')\n",
    "\n",
    "    plt.vlines(5, -70, -110, colors='r')\n",
    "    plt.vlines(3.2, -70, -110, colors='r')\n",
    "\n",
    "    plt.hlines(-70, 3.2, 5, colors='r')\n",
    "    plt.hlines(-110, 3.2, 5, colors='r')\n",
    "\n",
    "    plt.xlim(2, 16)\n",
    "    \n",
    "    plt.savefig(outdir+systdict_run+'_R26stacking.pdf')\n",
    "    plt.show()\n",
    "    "
   ]
  },
  {
   "cell_type": "markdown",
   "metadata": {},
   "source": [
    "## Load Data and Run Calculating Functions"
   ]
  },
  {
   "cell_type": "code",
   "execution_count": 9,
   "metadata": {},
   "outputs": [],
   "source": [
    "trajectories_path='/Users/fatima/Stanford/70S/Trajectories/ALL/Within15CompleteTunnel/cat_rename_trajs/'\n",
    "ref_struct_path=trajectories_path\n",
    "outdir='/Users/fatima/Stanford/WritingSecM/STACKING_R26/'"
   ]
  },
  {
   "cell_type": "code",
   "execution_count": 10,
   "metadata": {},
   "outputs": [],
   "source": [
    "systdict={0:'K13', 1:'N13', 2:'WT'}"
   ]
  },
  {
   "cell_type": "code",
   "execution_count": 11,
   "metadata": {},
   "outputs": [],
   "source": [
    "run=0\n",
    "u,G2505_SIDE,ARG26_SIDE=load_trajs(run, trajectories_path, ref_struct_path)"
   ]
  },
  {
   "cell_type": "code",
   "execution_count": 12,
   "metadata": {},
   "outputs": [
    {
     "name": "stdout",
     "output_type": "stream",
     "text": [
      "Stacking %: 0.0686626746506986\n",
      "My error %: 0.05429141716566866\n"
     ]
    }
   ],
   "source": [
    "df=get_stacking_dataframe_ARG26(G2505_SIDE, ARG26_SIDE)"
   ]
  },
  {
   "cell_type": "markdown",
   "metadata": {},
   "source": [
    "## Plot "
   ]
  },
  {
   "cell_type": "code",
   "execution_count": 13,
   "metadata": {},
   "outputs": [
    {
     "data": {
      "image/png": "[encoded data removed]",
      "text/plain": [
       "<Figure size 432x288 with 1 Axes>"
      ]
     },
     "metadata": {
      "needs_background": "light"
     },
     "output_type": "display_data"
    }
   ],
   "source": [
    "plot_stacking(df, systdict[run], outdir)"
   ]
  },
  {
   "cell_type": "code",
   "execution_count": 14,
   "metadata": {},
   "outputs": [
    {
     "data": {
      "text/plain": [
       "(0.0, 16.0)"
      ]
     },
     "execution_count": 14,
     "metadata": {},
     "output_type": "execute_result"
    },
    {
     "data": {
      "image/png": "[encoded data removed]",
      "text/plain": [
       "<Figure size 360x360 with 1 Axes>"
      ]
     },
     "metadata": {
      "needs_background": "light"
     },
     "output_type": "display_data"
    }
   ],
   "source": [
    "sns.displot(df[\"COM Dist\"]).set(title=systdict[run])\n",
    "plt.xlim(0, 16)\n"
   ]
  },
  {
   "cell_type": "code",
   "execution_count": 15,
   "metadata": {},
   "outputs": [
    {
     "data": {
      "text/plain": [
       "<seaborn.axisgrid.FacetGrid at 0x7fcf6ddb0b20>"
      ]
     },
     "execution_count": 15,
     "metadata": {},
     "output_type": "execute_result"
    },
    {
     "data": {
      "image/png": "[encoded data removed]",
      "text/plain": [
       "<Figure size 360x360 with 1 Axes>"
      ]
     },
     "metadata": {
      "needs_background": "light"
     },
     "output_type": "display_data"
    }
   ],
   "source": [
    "sns.displot(df[\"Dih Angle\"]).set(title=systdict[run])"
   ]
  },
  {
   "cell_type": "code",
   "execution_count": null,
   "metadata": {},
   "outputs": [],
   "source": []
  }
 ],
 "metadata": {
  "kernelspec": {
   "display_name": "Python 3 (ipykernel)",
   "language": "python",
   "name": "python3"
  },
  "language_info": {
   "codemirror_mode": {
    "name": "ipython",
    "version": 3
   },
   "file_extension": ".py",
   "mimetype": "text/x-python",
   "name": "python",
   "nbconvert_exporter": "python",
   "pygments_lexer": "ipython3",
   "version": "3.8.3"
  }
 },
 "nbformat": 4,
 "nbformat_minor": 4
}
